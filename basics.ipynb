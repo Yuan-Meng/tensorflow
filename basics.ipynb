{
 "cells": [
  {
   "cell_type": "code",
   "execution_count": 6,
   "metadata": {},
   "outputs": [],
   "source": [
    "# Import libraries\n",
    "import tensorflow.compat.v1 as tf\n",
    "tf.disable_v2_behavior() \n",
    "\n",
    "import warnings\n",
    "warnings.filterwarnings(\"ignore\")"
   ]
  },
  {
   "cell_type": "markdown",
   "metadata": {},
   "source": [
    "1. Add a two constants, 3 and 2, together."
   ]
  },
  {
   "cell_type": "code",
   "execution_count": 2,
   "metadata": {},
   "outputs": [
    {
     "name": "stdout",
     "output_type": "stream",
     "text": [
      "Tensor(\"Add:0\", shape=(), dtype=int32)\n"
     ]
    }
   ],
   "source": [
    "# Create two constant nodes\n",
    "const1 = tf.constant(3)\n",
    "const2 = tf.constant(2)\n",
    "\n",
    "# Add them together\n",
    "node_sum = tf.add(const1, const2)\n",
    "\n",
    "print(node_sum)"
   ]
  },
  {
   "cell_type": "markdown",
   "metadata": {},
   "source": [
    "2. Divide a placeholder by 2."
   ]
  },
  {
   "cell_type": "code",
   "execution_count": 3,
   "metadata": {},
   "outputs": [
    {
     "name": "stdout",
     "output_type": "stream",
     "text": [
      "Tensor(\"truediv:0\", dtype=float64)\n"
     ]
    }
   ],
   "source": [
    "# Create a placeholder\n",
    "ph1 = tf.placeholder(tf.int32)\n",
    "\n",
    "# Divide it by 2\n",
    "node_quotient = tf.divide(ph1, const2)\n",
    "\n",
    "print(node_quotient)"
   ]
  },
  {
   "cell_type": "markdown",
   "metadata": {},
   "source": [
    "3. Take two placeholders and multiply them."
   ]
  },
  {
   "cell_type": "code",
   "execution_count": 4,
   "metadata": {},
   "outputs": [
    {
     "name": "stdout",
     "output_type": "stream",
     "text": [
      "Tensor(\"Mul:0\", dtype=int32)\n"
     ]
    }
   ],
   "source": [
    "# Create another placeholder\n",
    "ph2 = tf.placeholder(tf.int32)\n",
    "\n",
    "# Multiple them\n",
    "node_product = tf.multiply(ph1, ph2)\n",
    "\n",
    "print(node_product)"
   ]
  },
  {
   "cell_type": "markdown",
   "metadata": {},
   "source": [
    "4. Sum a 7 and a placeholder, then multiply it by two."
   ]
  },
  {
   "cell_type": "code",
   "execution_count": 5,
   "metadata": {},
   "outputs": [
    {
     "name": "stdout",
     "output_type": "stream",
     "text": [
      "Tensor(\"Mul_1:0\", dtype=int32)\n"
     ]
    }
   ],
   "source": [
    "# Create a new constant node\n",
    "const3 = tf.constant(7)\n",
    "\n",
    "# Calculate the required result\n",
    "node_result = tf.multiply(tf.add(const3, ph1), 2)\n",
    "\n",
    "print(node_result)"
   ]
  }
 ],
 "metadata": {
  "kernelspec": {
   "display_name": "Python 3",
   "language": "python",
   "name": "python3"
  },
  "language_info": {
   "codemirror_mode": {
    "name": "ipython",
    "version": 3
   },
   "file_extension": ".py",
   "mimetype": "text/x-python",
   "name": "python",
   "nbconvert_exporter": "python",
   "pygments_lexer": "ipython3",
   "version": "3.7.6"
  }
 },
 "nbformat": 4,
 "nbformat_minor": 4
}
